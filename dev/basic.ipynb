{
 "cells": [
  {
   "cell_type": "code",
   "execution_count": null,
   "id": "7997758e",
   "metadata": {},
   "outputs": [],
   "source": [
    "import time"
   ]
  },
  {
   "cell_type": "code",
   "execution_count": null,
   "id": "ca8ee480",
   "metadata": {},
   "outputs": [],
   "source": [
    "def simple_task(task_name: str, duration: int = 2) -> str:\n",
    "    \"\"\"\n",
    "    A simple task for workers to process.\n",
    "    \n",
    "    Args:\n",
    "        task_name: Name of the task\n",
    "        duration: How long the task takes (seconds)\n",
    "        \n",
    "    Returns:\n",
    "        Task completion message\n",
    "    \"\"\"\n",
    "    print(f\"🔄 Starting task: {task_name}\")\n",
    "    print(f\"⏱️  Task will take {duration} seconds\")\n",
    "    \n",
    "    # Simulate work\n",
    "    time.sleep(duration)\n",
    "    \n",
    "    result = f\"Task '{task_name}' completed successfully\"\n",
    "    print(f\"✅ {result}\")\n",
    "    \n",
    "    return result\n",
    "\n",
    "\n",
    "def cpu_intensive_task(size: int) -> str:\n",
    "    \"\"\"\n",
    "    Simulate a CPU-intensive task.\n",
    "    \n",
    "    Args:\n",
    "        size: Size of computation (affects duration)\n",
    "        \n",
    "    Returns:\n",
    "        Computation result\n",
    "    \"\"\"\n",
    "    print(f\"🧮 Starting CPU-intensive computation (size: {size})\")\n",
    "    \n",
    "    # Simulate CPU work\n",
    "    total = 0\n",
    "    for i in range(size * 100000):\n",
    "        total += i * i\n",
    "    \n",
    "    result = f\"CPU task completed. Final value: {total}\"\n",
    "    print(f\"✅ {result}\")\n",
    "    \n",
    "    return result\n",
    "\n",
    "\n",
    "def io_simulation_task(file_count: int) -> str:\n",
    "    \"\"\"\n",
    "    Simulate an I/O-intensive task.\n",
    "    \n",
    "    Args:\n",
    "        file_count: Number of files to \"process\"\n",
    "        \n",
    "    Returns:\n",
    "        I/O task result\n",
    "    \"\"\"\n",
    "    print(f\"📁 Processing {file_count} files...\")\n",
    "    \n",
    "    for i in range(file_count):\n",
    "        print(f\"  📄 Processing file {i + 1}/{file_count}\")\n",
    "        time.sleep(0.5)  # Simulate I/O wait\n",
    "    \n",
    "    result = f\"Processed {file_count} files successfully\"\n",
    "    print(f\"✅ {result}\")\n",
    "    \n",
    "    return result"
   ]
  },
  {
   "cell_type": "code",
   "execution_count": null,
   "id": "5bf4dfd9",
   "metadata": {
    "vscode": {
     "languageId": "plaintext"
    }
   },
   "outputs": [],
   "source": []
  }
 ],
 "metadata": {
  "language_info": {
   "name": "python"
  }
 },
 "nbformat": 4,
 "nbformat_minor": 5
}
